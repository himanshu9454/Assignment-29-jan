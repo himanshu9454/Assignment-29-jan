{
 "cells": [
  {
   "cell_type": "code",
   "execution_count": null,
   "id": "2032f411-36ab-4573-bafd-f8fa6b56f2e0",
   "metadata": {},
   "outputs": [],
   "source": [
    "Qs.1 Who developed Python Programming Language?\n",
    "Ans= Guido van Rossum developed Python Programming Language."
   ]
  },
  {
   "cell_type": "code",
   "execution_count": null,
   "id": "3cbe5874-e495-45c2-a854-9ce514678cb2",
   "metadata": {},
   "outputs": [],
   "source": [
    "Qs.2 Which type of Programming does Python support?\n",
    "Ans= Python is an interperted programming language,supporting obejct-oriented,structured,and functional\n",
    "programming."
   ]
  },
  {
   "cell_type": "code",
   "execution_count": null,
   "id": "e5eced1d-b05a-45e5-b42f-9080aa954ef0",
   "metadata": {},
   "outputs": [],
   "source": [
    "Qs.3 Is Python case senstive when dealing with indetifiers?\n",
    "Ans= Yes Python is a case-senstive language,i.e. it treats uppercase and lowercase charcters differently.  "
   ]
  },
  {
   "cell_type": "code",
   "execution_count": null,
   "id": "70723f2f-9feb-4774-b3d8-aaf31583b388",
   "metadata": {},
   "outputs": [],
   "source": [
    "Qs.4 What is the correct extension of the Python file?\n",
    "Ans= The correct extension of the Python file are- .py,.pyi."
   ]
  },
  {
   "cell_type": "code",
   "execution_count": null,
   "id": "623cb63e-d113-4cf4-b634-4fd4514190fb",
   "metadata": {},
   "outputs": [],
   "source": [
    "Qs.5 Is Python code compiled or interpreted?\n",
    "Ans= Python is an interpreted language. "
   ]
  },
  {
   "cell_type": "code",
   "execution_count": null,
   "id": "ba58affa-50ed-457e-b54b-736f29903a6b",
   "metadata": {},
   "outputs": [],
   "source": [
    "Qs.6 Name a few blocks of code used to define in Python language?\n",
    "Ans= A few blocks of code used to define in python language as like if/elif, print(''),else etc."
   ]
  },
  {
   "cell_type": "code",
   "execution_count": null,
   "id": "5a7cff13-d6fa-480b-86fe-97c63da142e1",
   "metadata": {},
   "outputs": [],
   "source": [
    "Qs.7 State a character used to give single -line comments in Python?\n",
    "Ans= In Python ,we used the hash symbol #  to write a single- line comments. "
   ]
  },
  {
   "cell_type": "code",
   "execution_count": null,
   "id": "a0152ddc-be05-48c7-88d1-298b5f291d9b",
   "metadata": {},
   "outputs": [],
   "source": [
    "Qs.8 Mention function which can help us to find the version  python that we are currently working?\n",
    "Ans= .Using sys.version method, .Using python _version () function and Using python -V command\n"
   ]
  },
  {
   "cell_type": "code",
   "execution_count": null,
   "id": "e999f916-ff87-4cdc-b819-2d44269ada29",
   "metadata": {},
   "outputs": [],
   "source": [
    "Qs.9 Python supports the creation of anonymous function runtime, using a construct called-------?\n",
    "Ans= Python supports the creation of anonymus function runtime ,using a construct called lambda."
   ]
  },
  {
   "cell_type": "code",
   "execution_count": null,
   "id": "f494a747-4f33-46ea-b3d9-a23206807923",
   "metadata": {},
   "outputs": [],
   "source": [
    "Qs.10 What does pip stand for python?\n",
    "Ans= Pip stand for python preferred installer program."
   ]
  },
  {
   "cell_type": "code",
   "execution_count": null,
   "id": "013fd81e-4a0b-4489-8046-fc5440da7ea3",
   "metadata": {},
   "outputs": [],
   "source": [
    "Qs.11 Mention a few built- in function in python?\n",
    "Ans= print()function, type()function, input () function, abs() function, pow() function, type() function."
   ]
  },
  {
   "cell_type": "code",
   "execution_count": null,
   "id": "e5131bbd-3512-48aa-8650-304512c74f83",
   "metadata": {},
   "outputs": [],
   "source": [
    "Qs.12 What is the maximum possible length of an indetifier in python?\n",
    "Ans= An indetifier can have a maximm length of 79 character in python."
   ]
  },
  {
   "cell_type": "code",
   "execution_count": null,
   "id": "4d7cf250-7e10-4e81-958a-ff61ebb7390e",
   "metadata": {},
   "outputs": [],
   "source": [
    "Qs.13 What are the benefits of using python?\n",
    "Ans= Python is commonly used for developing websites and software , task automation, data analysis,\n",
    "data visualization. Python simple , write and fast to write. "
   ]
  },
  {
   "cell_type": "code",
   "execution_count": null,
   "id": "0e4f6d3a-8789-4727-9717-131e97c47f09",
   "metadata": {},
   "outputs": [],
   "source": [
    "Qs.14 How is memory managed in python?\n",
    "Ans= Memory management in Python involves a private heap containing all python objects and data structures.\n",
    "The management of this private heap is ensured interally by the python memory manager."
   ]
  },
  {
   "cell_type": "code",
   "execution_count": null,
   "id": "41a69da3-d63c-4792-89c7-b223414c5c3e",
   "metadata": {},
   "outputs": [],
   "source": [
    "Qs.15 How to install python on windows and set path variables?\n",
    "Ans= 1. Right -clicking This PC and going to properies.\n",
    "    2.Clicking on the adavanced system settings in the menu on the lesft.\n",
    "    3. Clicking on the Enviroment Variables button on the bottom right.\n",
    "    4. In the system variables section , selecting yhe Path varaiable and clicking on Edit.\n",
    "       The next screen will show all the directories that are currently a part of the PATH variable.\n",
    "    5.Clicking on New and entering Python's install directory.    "
   ]
  },
  {
   "cell_type": "code",
   "execution_count": null,
   "id": "1e2cbe1b-f46d-4884-8a97-ded2bd6f28c0",
   "metadata": {},
   "outputs": [],
   "source": [
    "Qs.16 Is indentation required in python?\n",
    "Ans= "
   ]
  }
 ],
 "metadata": {
  "kernelspec": {
   "display_name": "Python 3 (ipykernel)",
   "language": "python",
   "name": "python3"
  },
  "language_info": {
   "codemirror_mode": {
    "name": "ipython",
    "version": 3
   },
   "file_extension": ".py",
   "mimetype": "text/x-python",
   "name": "python",
   "nbconvert_exporter": "python",
   "pygments_lexer": "ipython3",
   "version": "3.10.8"
  }
 },
 "nbformat": 4,
 "nbformat_minor": 5
}
